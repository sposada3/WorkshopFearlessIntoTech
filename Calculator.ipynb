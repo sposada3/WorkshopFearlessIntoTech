{
 "cells": [
  {
   "cell_type": "code",
   "execution_count": null,
   "id": "83694ef9",
   "metadata": {},
   "outputs": [],
   "source": [
    "num1= int(input(\"Enter the first number:\"))\n",
    "num2=int(input(\"Enter your second number:\"))\n",
    "operator=input(\"Choose your operation: +, -, *, /\")\n",
    "\n",
    "def simpleCalculator(num1, num2, operator):\n",
    "    if operator== \"+\":\n",
    "        add=num1 + num2\n",
    "        print(\"{} + {} = {}\".format(num1, num2, add))\n",
    "    elif operator ==\"-\":\n",
    "        sus=num1-num2\n",
    "        print(\"{} - {} = {}\".format(num1, num2, sus))\n",
    "    elif operator==\"*\":\n",
    "        mult=num1*num2\n",
    "        print(\"{} * {} = {}\".format(num1, num2, mult))\n",
    "    elif operator==\"/\":\n",
    "        if num2 !=0:\n",
    "            div=num1/num2\n",
    "            print(\"{}/{} = {}\".format(num1, num2, div))\n",
    "        else:\n",
    "            div2=num2/num1\n",
    "            print(\"{}/{} = {}\".format(num2, num1, div2))\n",
    "    else:\n",
    "        print(\"Please choose a valid operation.\")\n",
    "simpleCalculator(num1, num2, operator)"
   ]
  }
 ],
 "metadata": {
  "kernelspec": {
   "display_name": "Python 3 (ipykernel)",
   "language": "python",
   "name": "python3"
  },
  "language_info": {
   "codemirror_mode": {
    "name": "ipython",
    "version": 3
   },
   "file_extension": ".py",
   "mimetype": "text/x-python",
   "name": "python",
   "nbconvert_exporter": "python",
   "pygments_lexer": "ipython3",
   "version": "3.9.7"
  }
 },
 "nbformat": 4,
 "nbformat_minor": 5
}
